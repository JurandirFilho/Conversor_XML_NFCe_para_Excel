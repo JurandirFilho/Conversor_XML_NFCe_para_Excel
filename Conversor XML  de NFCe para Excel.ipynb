{
 "cells": [
  {
   "cell_type": "code",
   "execution_count": 1,
   "id": "4d9fa1ec",
   "metadata": {
    "scrolled": false
   },
   "outputs": [],
   "source": [
    "#importar bibliotecas\n",
    "import xmltodict\n",
    "import os\n",
    "import json #apenas para visualizar e tratar erros\n",
    "import pandas as pd\n",
    "\n",
    "#buscar arquivos e ler informações\n",
    "def pegar_infos(nome_arquivo, valores):\n",
    "    #print(f'Pegou as informações {nome_arquivo}')\n",
    "    with open(f'nfs/{nome_arquivo}', 'rb') as arquivo_xml:\n",
    "        dic_arquivo = xmltodict.parse(arquivo_xml)\n",
    "        #print(json.dumps(dic_arquivo, indent=4))\n",
    "        try: #dentro do try para tratar possiveis erros            \n",
    "            infos_nf = dic_arquivo['nfeProc']['NFe']['infNFe']              \n",
    "            numero_nota = infos_nf['ide']['nNF']\n",
    "            data_nota = infos_nf['ide']['dhEmi']\n",
    "            cnpj_emissora = infos_nf['emit']['CNPJ']\n",
    "            empresa_emissora = infos_nf['emit']['xNome']\n",
    "            cfop = infos_nf['det']['prod']['CFOP']\n",
    "            valor_nf = infos_nf['total']['ICMSTot']['vNF']\n",
    "            pis = infos_nf['total']['ICMSTot']['vPIS']\n",
    "            cofins = infos_nf['total']['ICMSTot']['vCOFINS']\n",
    "            icms = infos_nf['total']['ICMSTot']['vICMS']\n",
    "            valores.append([numero_nota, data_nota, cnpj_emissora, empresa_emissora, cfop, valor_nf, pis, cofins, icms])\n",
    "        except Exception as e:\n",
    "#             print(e)\n",
    "#             print(json.dumps(dic_arquivo, indent=4))\n",
    "            pass\n",
    "    \n",
    "lista_arquivos = os.listdir('nfs')\n",
    "\n",
    "#criar tabela\n",
    "colunas = ['numero_nota', 'data_nota', 'cnpj_emissora', 'empresa_emissora', 'cfop', 'valor_nf', 'pis', 'cofins', 'icms']\n",
    "valores = []\n",
    "\n",
    "for arquivo in lista_arquivos:\n",
    "    pegar_infos(arquivo, valores)\n",
    "  \n",
    "    \n",
    "\n",
    "tabela = pd.DataFrame(columns=colunas, data=valores)\n",
    "\n",
    "#Editar Tabela\n",
    "\n",
    "#Mudar Type object para float\n",
    "tabela_type_float = ['valor_nf', 'pis', 'cofins', 'icms']\n",
    "tabela[tabela_type_float] = tabela[tabela_type_float].astype(float)\n",
    "\n",
    "#arrendor valores para 2 casas decimais\n",
    "tabela_arred_2 = ['valor_nf', 'pis', 'cofins', 'icms']\n",
    "tabela[tabela_arred_2] = tabela[tabela_arred_2].round(2)\n",
    "\n",
    "tabela['data_nota'] = tabela['data_nota'].str.slice(0, 10)\n",
    "#display(tabela)\n",
    "#print(tabela.dtypes)\n",
    "      \n",
    "#Transformar tabela em Excel\n",
    "tabela.to_excel('Notas Fiscais.xlsx', index=False)"
   ]
  },
  {
   "cell_type": "code",
   "execution_count": null,
   "id": "362d1711",
   "metadata": {},
   "outputs": [],
   "source": []
  },
  {
   "cell_type": "code",
   "execution_count": null,
   "id": "45c8d46b",
   "metadata": {},
   "outputs": [],
   "source": []
  }
 ],
 "metadata": {
  "kernelspec": {
   "display_name": "Python 3 (ipykernel)",
   "language": "python",
   "name": "python3"
  },
  "language_info": {
   "codemirror_mode": {
    "name": "ipython",
    "version": 3
   },
   "file_extension": ".py",
   "mimetype": "text/x-python",
   "name": "python",
   "nbconvert_exporter": "python",
   "pygments_lexer": "ipython3",
   "version": "3.10.9"
  }
 },
 "nbformat": 4,
 "nbformat_minor": 5
}
